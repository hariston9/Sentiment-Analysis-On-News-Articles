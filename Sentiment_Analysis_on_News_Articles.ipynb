{
  "nbformat": 4,
  "nbformat_minor": 0,
  "metadata": {
    "colab": {
      "name": "Sentiment Analysis on News Articles.ipynb",
      "provenance": [],
      "collapsed_sections": []
    },
    "kernelspec": {
      "name": "python3",
      "display_name": "Python 3"
    },
    "language_info": {
      "name": "python"
    }
  },
  "cells": [
    {
      "cell_type": "code",
      "metadata": {
        "id": "-Zon1MtABiX4"
      },
      "source": [
        "# Description : This program analysis the sentiment about crypto using news headlines and python\n",
        "\n",
        "# Import the libraries\n",
        "import pandas as pd\n",
        "import numpy as np\n",
        "from textblob import TextBlob\n",
        "import matplotlib.pyplot as plt\n",
        "plt.style.use('fivethirtyeight')"
      ],
      "execution_count": null,
      "outputs": []
    },
    {
      "cell_type": "code",
      "metadata": {
        "id": "Ah9ie38bIZHE"
      },
      "source": [
        "#!pip install pygooglenews  \n"
      ],
      "execution_count": null,
      "outputs": []
    },
    {
      "cell_type": "code",
      "metadata": {
        "id": "jwMphfhfLXrH"
      },
      "source": [
        "from GoogleNews import GoogleNews\n",
        "#from newspaper import Article\n",
        "import pandas as pd"
      ],
      "execution_count": null,
      "outputs": []
    },
    {
      "cell_type": "code",
      "metadata": {
        "colab": {
          "base_uri": "https://localhost:8080/"
        },
        "id": "QyodCVYqXcJ8",
        "outputId": "33a61e4a-a150-4ab6-9250-d844f3e3d032"
      },
      "source": [
        "!pip install GoogleNews\n",
        "!pip install newspaper3k"
      ],
      "execution_count": null,
      "outputs": [
        {
          "output_type": "stream",
          "name": "stdout",
          "text": [
            "Requirement already satisfied: GoogleNews in /usr/local/lib/python3.7/dist-packages (1.5.9)\n",
            "Requirement already satisfied: python-dateutil in /usr/local/lib/python3.7/dist-packages (from GoogleNews) (2.8.2)\n",
            "Requirement already satisfied: beautifulsoup4 in /usr/local/lib/python3.7/dist-packages (from GoogleNews) (4.10.0)\n",
            "Requirement already satisfied: dateparser in /usr/local/lib/python3.7/dist-packages (from GoogleNews) (0.7.6)\n",
            "Requirement already satisfied: soupsieve>1.2 in /usr/local/lib/python3.7/dist-packages (from beautifulsoup4->GoogleNews) (2.2.1)\n",
            "Requirement already satisfied: tzlocal in /usr/local/lib/python3.7/dist-packages (from dateparser->GoogleNews) (1.5.1)\n",
            "Requirement already satisfied: regex!=2019.02.19 in /usr/local/lib/python3.7/dist-packages (from dateparser->GoogleNews) (2019.12.20)\n",
            "Requirement already satisfied: pytz in /usr/local/lib/python3.7/dist-packages (from dateparser->GoogleNews) (2018.9)\n",
            "Requirement already satisfied: six>=1.5 in /usr/local/lib/python3.7/dist-packages (from python-dateutil->GoogleNews) (1.15.0)\n",
            "Collecting newspaper3k\n",
            "  Downloading newspaper3k-0.2.8-py3-none-any.whl (211 kB)\n",
            "\u001b[K     |████████████████████████████████| 211 kB 27.8 MB/s \n",
            "\u001b[?25hCollecting cssselect>=0.9.2\n",
            "  Using cached cssselect-1.1.0-py2.py3-none-any.whl (16 kB)\n",
            "Requirement already satisfied: feedparser>=5.2.1 in /usr/local/lib/python3.7/dist-packages (from newspaper3k) (5.2.1)\n",
            "Requirement already satisfied: python-dateutil>=2.5.3 in /usr/local/lib/python3.7/dist-packages (from newspaper3k) (2.8.2)\n",
            "Requirement already satisfied: Pillow>=3.3.0 in /usr/local/lib/python3.7/dist-packages (from newspaper3k) (7.1.2)\n",
            "Requirement already satisfied: requests>=2.10.0 in /usr/local/lib/python3.7/dist-packages (from newspaper3k) (2.26.0)\n",
            "Collecting tldextract>=2.0.1\n",
            "  Downloading tldextract-3.1.2-py2.py3-none-any.whl (87 kB)\n",
            "\u001b[K     |████████████████████████████████| 87 kB 5.9 MB/s \n",
            "\u001b[?25hCollecting feedfinder2>=0.0.4\n",
            "  Downloading feedfinder2-0.0.4.tar.gz (3.3 kB)\n",
            "Requirement already satisfied: nltk>=3.2.1 in /usr/local/lib/python3.7/dist-packages (from newspaper3k) (3.2.5)\n",
            "Requirement already satisfied: PyYAML>=3.11 in /usr/local/lib/python3.7/dist-packages (from newspaper3k) (3.13)\n",
            "Collecting jieba3k>=0.35.1\n",
            "  Downloading jieba3k-0.35.1.zip (7.4 MB)\n",
            "\u001b[K     |████████████████████████████████| 7.4 MB 27.0 MB/s \n",
            "\u001b[?25hRequirement already satisfied: beautifulsoup4>=4.4.1 in /usr/local/lib/python3.7/dist-packages (from newspaper3k) (4.10.0)\n",
            "Collecting tinysegmenter==0.3\n",
            "  Downloading tinysegmenter-0.3.tar.gz (16 kB)\n",
            "Requirement already satisfied: lxml>=3.6.0 in /usr/local/lib/python3.7/dist-packages (from newspaper3k) (4.2.6)\n",
            "Requirement already satisfied: soupsieve>1.2 in /usr/local/lib/python3.7/dist-packages (from beautifulsoup4>=4.4.1->newspaper3k) (2.2.1)\n",
            "Requirement already satisfied: six in /usr/local/lib/python3.7/dist-packages (from feedfinder2>=0.0.4->newspaper3k) (1.15.0)\n",
            "Requirement already satisfied: urllib3<1.27,>=1.21.1 in /usr/local/lib/python3.7/dist-packages (from requests>=2.10.0->newspaper3k) (1.24.3)\n",
            "Requirement already satisfied: certifi>=2017.4.17 in /usr/local/lib/python3.7/dist-packages (from requests>=2.10.0->newspaper3k) (2021.5.30)\n",
            "Requirement already satisfied: charset-normalizer~=2.0.0 in /usr/local/lib/python3.7/dist-packages (from requests>=2.10.0->newspaper3k) (2.0.7)\n",
            "Requirement already satisfied: idna<4,>=2.5 in /usr/local/lib/python3.7/dist-packages (from requests>=2.10.0->newspaper3k) (2.10)\n",
            "Requirement already satisfied: filelock>=3.0.8 in /usr/local/lib/python3.7/dist-packages (from tldextract>=2.0.1->newspaper3k) (3.3.0)\n",
            "Collecting requests-file>=1.4\n",
            "  Downloading requests_file-1.5.1-py2.py3-none-any.whl (3.7 kB)\n",
            "Building wheels for collected packages: tinysegmenter, feedfinder2, jieba3k\n",
            "  Building wheel for tinysegmenter (setup.py) ... \u001b[?25l\u001b[?25hdone\n",
            "  Created wheel for tinysegmenter: filename=tinysegmenter-0.3-py3-none-any.whl size=13552 sha256=996fa371eb3e6f896b3a8508bb4ea611181a816e9e7739cd3120225eafedd981\n",
            "  Stored in directory: /root/.cache/pip/wheels/df/67/41/faca10fa501ca010be41b49d40360c2959e1c4f09bcbfa37fa\n",
            "  Building wheel for feedfinder2 (setup.py) ... \u001b[?25l\u001b[?25hdone\n",
            "  Created wheel for feedfinder2: filename=feedfinder2-0.0.4-py3-none-any.whl size=3356 sha256=09398d182bfadde70d886bafb9f5084ab93d275f696412d37a42929e43b6e82c\n",
            "  Stored in directory: /root/.cache/pip/wheels/7f/d4/8f/6e2ca54744c9d7292d88ddb8d42876bcdab5e6d84a21c10346\n",
            "  Building wheel for jieba3k (setup.py) ... \u001b[?25l\u001b[?25hdone\n",
            "  Created wheel for jieba3k: filename=jieba3k-0.35.1-py3-none-any.whl size=7398405 sha256=27fa5c60a433d19d2910d55bcd9c2f5749289e778ba65dd888722e4c1cb2a589\n",
            "  Stored in directory: /root/.cache/pip/wheels/4c/91/46/3c208287b726df325a5979574324878b679116e4baae1af3c3\n",
            "Successfully built tinysegmenter feedfinder2 jieba3k\n",
            "Installing collected packages: requests-file, tldextract, tinysegmenter, jieba3k, feedfinder2, cssselect, newspaper3k\n",
            "Successfully installed cssselect-1.1.0 feedfinder2-0.0.4 jieba3k-0.35.1 newspaper3k-0.2.8 requests-file-1.5.1 tinysegmenter-0.3 tldextract-3.1.2\n"
          ]
        }
      ]
    },
    {
      "cell_type": "code",
      "metadata": {
        "colab": {
          "base_uri": "https://localhost:8080/"
        },
        "id": "0ru9GetmLt7g",
        "outputId": "a68201a0-b948-41e6-c334-fcf5ee12314a"
      },
      "source": [
        "!pip install newspaper"
      ],
      "execution_count": null,
      "outputs": [
        {
          "output_type": "stream",
          "name": "stdout",
          "text": [
            "Collecting newspaper\n",
            "  Using cached newspaper-0.1.0.7.tar.gz (176 kB)\n",
            "\u001b[33mWARNING: Discarding https://files.pythonhosted.org/packages/d8/07/5765cc9c36e2be1a0f0e615b7a092129e1ba30a25182506dea437290c193/newspaper-0.1.0.7.tar.gz#sha256=929ea447660d2633d3eea6c2aba703b549f7cdd56bd5cf636eb8f1454b254945 (from https://pypi.org/simple/newspaper/). Command errored out with exit status 1: python setup.py egg_info Check the logs for full command output.\u001b[0m\n",
            "  Using cached newspaper-0.1.0.6.tar.gz (176 kB)\n",
            "Collecting beautifulsoup4==4.3.2\n",
            "  Using cached beautifulsoup4-4.3.2.tar.gz (143 kB)\n",
            "Collecting Pillow==2.5.1\n",
            "  Using cached Pillow-2.5.1.zip (6.9 MB)\n",
            "Collecting PyYAML==3.11\n",
            "  Using cached PyYAML-3.11.zip (371 kB)\n",
            "Collecting cssselect==0.9.1\n",
            "  Using cached cssselect-0.9.1.tar.gz (32 kB)\n",
            "Collecting lxml==3.3.5\n",
            "  Using cached lxml-3.3.5.tar.gz (3.5 MB)\n",
            "Collecting nltk==2.0.5\n",
            "  Using cached nltk-2.0.5.zip (1.1 MB)\n",
            "\u001b[33mWARNING: Discarding https://files.pythonhosted.org/packages/61/32/c7d454c7d232034dfb492b6ef5d749b367c58e0a0f2ed4125eb4089b9227/nltk-2.0.5.zip#sha256=edbeb82d03ef6fe24d4ec8380998d23cb2e36eb43350c9f33e932fe07de42cd5 (from https://pypi.org/simple/nltk/). Command errored out with exit status 1: python setup.py egg_info Check the logs for full command output.\u001b[0m\n",
            "  Using cached nltk-2.0.5.tar.gz (954 kB)\n",
            "\u001b[33mWARNING: Discarding https://files.pythonhosted.org/packages/50/9e/39418026bf8013bbc2852c7aec3fb21e4339f6cd694934496d67a19b53b8/nltk-2.0.5.tar.gz#sha256=590b1752fb39427ad8018a65f72355c22e8276d476699aa4a488e38c1b17889a (from https://pypi.org/simple/nltk/). Command errored out with exit status 1: python setup.py egg_info Check the logs for full command output.\u001b[0m\n",
            "Collecting newspaper\n",
            "  Using cached newspaper-0.1.0.5.tar.gz (49 kB)\n",
            "\u001b[33mWARNING: Discarding https://files.pythonhosted.org/packages/57/21/35a7e7040e70a628b526c6830e6f506868f54dcaadffbe57cb3d393af5cb/newspaper-0.1.0.5.tar.gz#sha256=b346e615f5a0c8ac5ab1ebab2420ad24fda7fc78198cae32f1b3fed640dde788 (from https://pypi.org/simple/newspaper/). Command errored out with exit status 1: python setup.py egg_info Check the logs for full command output.\u001b[0m\n",
            "  Using cached newspaper-0.1.0.4.tar.gz (49 kB)\n",
            "\u001b[33mWARNING: Discarding https://files.pythonhosted.org/packages/da/a3/88885ac6e2f65b84f23511da21bdd486d63d2a035d0adab6e4ef89cd4c25/newspaper-0.1.0.4.tar.gz#sha256=927edcccb7d57905fbd24fde4fb3879ffcc59d082877ac7c40963f795372cb67 (from https://pypi.org/simple/newspaper/). Command errored out with exit status 1: python setup.py egg_info Check the logs for full command output.\u001b[0m\n",
            "  Using cached newspaper-0.1.0.3.tar.gz (49 kB)\n",
            "\u001b[33mWARNING: Discarding https://files.pythonhosted.org/packages/4f/59/140bdf8b9413c552fdfa73eb01b6622eaa8ed62ded2f390c4062b58f58bb/newspaper-0.1.0.3.tar.gz#sha256=d2eb46563c973a4046e82580d6193df42b86bff12cbfcb39e9780b0f7dc24595 (from https://pypi.org/simple/newspaper/). Command errored out with exit status 1: python setup.py egg_info Check the logs for full command output.\u001b[0m\n",
            "  Using cached newspaper-0.1.0.2.tar.gz (180 kB)\n",
            "  Using cached newspaper-0.1.0.1.tar.gz (49 kB)\n",
            "\u001b[33mWARNING: Discarding https://files.pythonhosted.org/packages/9c/57/e6af9770c3241725fbf7a79c6f2954988947202e2cab01cdf53457f039a8/newspaper-0.1.0.1.tar.gz#sha256=bc40cf56e35f0c6fe79b77f3a4c84a950de9f66559a51bd280e3c363796afc75 (from https://pypi.org/simple/newspaper/). Command errored out with exit status 1: python setup.py egg_info Check the logs for full command output.\u001b[0m\n",
            "  Using cached newspaper-0.1.0.0.tar.gz (49 kB)\n",
            "\u001b[33mWARNING: Discarding https://files.pythonhosted.org/packages/be/7b/a34b526cf37727ef353ff46217173a67a598fbbf3d8dbd80b899e51af45c/newspaper-0.1.0.0.tar.gz#sha256=8c71680c09c39642be06d632149fe0e44a93ae5494e9f98c19fc79d6d21817bf (from https://pypi.org/simple/newspaper/). Command errored out with exit status 1: python setup.py egg_info Check the logs for full command output.\u001b[0m\n",
            "  Using cached newspaper-0.0.9.9.tar.gz (49 kB)\n",
            "\u001b[33mWARNING: Discarding https://files.pythonhosted.org/packages/ad/b6/02023ed7543c280cbd18eef61502b97f63eed842a1414f7596e370a97362/newspaper-0.0.9.9.tar.gz#sha256=e2449afd697d9280c78301e4d1e385fd7d6dc73e0a4a130c35f0e909f1804402 (from https://pypi.org/simple/newspaper/). Command errored out with exit status 1: python setup.py egg_info Check the logs for full command output.\u001b[0m\n",
            "  Using cached newspaper-0.0.9.8.tar.gz (248 kB)\n",
            "  Using cached newspaper-0.0.9.6.tar.gz (244 kB)\n",
            "Collecting nltk==2.0.4\n",
            "  Using cached nltk-2.0.4.zip (1.1 MB)\n",
            "\u001b[33mWARNING: Discarding https://files.pythonhosted.org/packages/25/a7/f8938bdf6f6d17e37e882b67f1362c0fdb6a8a609a69252b6033d6c546c5/nltk-2.0.4.zip#sha256=70936b0cf30710a1d63df152c3286af39af37b131cd176c0202e6665a8630632 (from https://pypi.org/simple/nltk/). Command errored out with exit status 1: python setup.py egg_info Check the logs for full command output.\u001b[0m\n",
            "  Using cached nltk-2.0.4.tar.gz (955 kB)\n",
            "\u001b[33mWARNING: Discarding https://files.pythonhosted.org/packages/81/f6/30c4eb35ad7a4b5e9301943c8738b79ebb8152f0986e877f809b8e295c61/nltk-2.0.4.tar.gz#sha256=a554d6b9c5c7c8b597a090d8848a6f78c6fc4665ae43c9a6a6d6a5b207d98c65 (from https://pypi.org/simple/nltk/). Command errored out with exit status 1: python setup.py egg_info Check the logs for full command output.\u001b[0m\n",
            "Collecting newspaper\n",
            "  Using cached newspaper-0.0.9.5.tar.gz (244 kB)\n",
            "  Using cached newspaper-0.0.9.2.tar.gz (242 kB)\n",
            "  Using cached newspaper-0.0.9.1.tar.gz (760 kB)\n",
            "Collecting BeautifulSoup==3.2.1\n",
            "  Using cached BeautifulSoup-3.2.1.tar.gz (31 kB)\n",
            "\u001b[33mWARNING: Discarding https://files.pythonhosted.org/packages/1e/ee/295988deca1a5a7accd783d0dfe14524867e31abb05b6c0eeceee49c759d/BeautifulSoup-3.2.1.tar.gz#sha256=6a8cb4401111e011b579c8c52a51cdab970041cc543814bbd9577a4529fe1cdb (from https://pypi.org/simple/beautifulsoup/). Command errored out with exit status 1: python setup.py egg_info Check the logs for full command output.\u001b[0m\n",
            "Collecting newspaper\n",
            "  Using cached newspaper-0.0.9.tar.gz (760 kB)\n",
            "  Using cached newspaper-0.0.8.tar.gz (6.9 MB)\n",
            "Requirement already satisfied: lxml in /usr/local/lib/python3.7/dist-packages (from newspaper) (4.2.6)\n",
            "Requirement already satisfied: requests in /usr/local/lib/python3.7/dist-packages (from newspaper) (2.26.0)\n",
            "Requirement already satisfied: nltk in /usr/local/lib/python3.7/dist-packages (from newspaper) (3.2.5)\n",
            "Requirement already satisfied: Pillow in /usr/local/lib/python3.7/dist-packages (from newspaper) (7.1.2)\n",
            "Collecting cssselect\n",
            "  Using cached cssselect-1.1.0-py2.py3-none-any.whl (16 kB)\n",
            "Collecting BeautifulSoup\n",
            "  Using cached BeautifulSoup-3.2.2.tar.gz (32 kB)\n",
            "\u001b[33mWARNING: Discarding https://files.pythonhosted.org/packages/40/f2/6c9f2f3e696ee6a1fb0e4d7850617e224ed2b0b1e872110abffeca2a09d4/BeautifulSoup-3.2.2.tar.gz#sha256=a04169602bff6e3138b1259dbbf491f5a27f9499dea9a8fbafd48843f9d89970 (from https://pypi.org/simple/beautifulsoup/). Command errored out with exit status 1: python setup.py egg_info Check the logs for full command output.\u001b[0m\n",
            "  Using cached BeautifulSoup-3.2.0.tar.gz (31 kB)\n",
            "\u001b[33mWARNING: Discarding https://files.pythonhosted.org/packages/33/fe/15326560884f20d792d3ffc7fe8f639aab88647c9d46509a240d9bfbb6b1/BeautifulSoup-3.2.0.tar.gz#sha256=0dc52d07516c1665c9dd9f0a390a7a054bfb7b147a50b2866fb116b8909dfd37 (from https://pypi.org/simple/beautifulsoup/). Command errored out with exit status 1: python setup.py egg_info Check the logs for full command output.\u001b[0m\n",
            "Collecting newspaper\n",
            "  Using cached newspaper-0.0.7.tar.gz (6.9 MB)\n",
            "\u001b[33mWARNING: Discarding https://files.pythonhosted.org/packages/6f/ed/2a56827d9291bd27251d60bfd11affd3dce7d24ba929014bbd4975a17eca/newspaper-0.0.7.tar.gz#sha256=a29c39e9c1c142238249208aed07204047c4a0b1cdcc92138dc98953cf66f7c3 (from https://pypi.org/simple/newspaper/). Command errored out with exit status 1: python setup.py egg_info Check the logs for full command output.\u001b[0m\n",
            "  Using cached newspaper-0.0.6.tar.gz (7.0 MB)\n",
            "\u001b[33mWARNING: Discarding https://files.pythonhosted.org/packages/d7/7f/ddcd5263d1fa14936786b01f62e75a4f806f98cb2255587af00ccb08b97b/newspaper-0.0.6.tar.gz#sha256=7bb92ecf4ef26dc3121b798e933dfc4cce3eb95d1d9e4ae01887231f12e30f9d (from https://pypi.org/simple/newspaper/). Command errored out with exit status 1: python setup.py egg_info Check the logs for full command output.\u001b[0m\n",
            "  Using cached newspaper-0.0.5.tar.gz (7.7 MB)\n",
            "\u001b[33mWARNING: Discarding https://files.pythonhosted.org/packages/de/4b/3279534d13073ea8958edff3b97e39e853faec4436e1c9d805f9cf6e9f23/newspaper-0.0.5.tar.gz#sha256=7fe4fa9121bb07707fa2489479ab7994a056ca9cc3a848ed634d5537c7eaa0bc (from https://pypi.org/simple/newspaper/). Command errored out with exit status 1: python setup.py egg_info Check the logs for full command output.\u001b[0m\n",
            "  Using cached newspaper-0.0.4.tar.gz (6.7 MB)\n",
            "\u001b[33mWARNING: Discarding https://files.pythonhosted.org/packages/44/10/cc8abed3de450ea2925601e29951eec9658a19f18572429cc29380ec7ac8/newspaper-0.0.4.tar.gz#sha256=359934ee0c47015687ac3b71d51c7d1a87e8b95ff96135bdbe5c4d2e2c20c735 (from https://pypi.org/simple/newspaper/). Command errored out with exit status 1: python setup.py egg_info Check the logs for full command output.\u001b[0m\n",
            "  Using cached newspaper-0.0.3.tar.gz (10.8 MB)\n",
            "Collecting lxml==3.2.4\n",
            "  Using cached lxml-3.2.4.tar.gz (3.3 MB)\n",
            "Collecting newspaper\n",
            "  Using cached newspaper-0.0.2.tar.gz (10.8 MB)\n",
            "\u001b[33mWARNING: Discarding https://files.pythonhosted.org/packages/6f/d3/c73ee757a0d2cd493a7d1ad16482902761ca5be3a52d971bce0cbf17b6fd/newspaper-0.0.2.tar.gz#sha256=a94c0427bc20448242457873d9dddb8c872ce82a6fb342b90b72bec790a117ab (from https://pypi.org/simple/newspaper/). Command errored out with exit status 1: python setup.py egg_info Check the logs for full command output.\u001b[0m\n",
            "\u001b[31mERROR: Cannot install newspaper==0.0.3, newspaper==0.0.8, newspaper==0.0.9, newspaper==0.0.9.1, newspaper==0.0.9.2, newspaper==0.0.9.5, newspaper==0.0.9.6, newspaper==0.0.9.8, newspaper==0.1.0.2 and newspaper==0.1.0.6 because these package versions have conflicting dependencies.\u001b[0m\n",
            "\n",
            "The conflict is caused by:\n",
            "    newspaper 0.1.0.6 depends on nltk==2.0.5\n",
            "    newspaper 0.1.0.2 depends on nltk==2.0.5\n",
            "    newspaper 0.0.9.8 depends on nltk==2.0.5\n",
            "    newspaper 0.0.9.6 depends on nltk==2.0.4\n",
            "    newspaper 0.0.9.5 depends on nltk==2.0.4\n",
            "    newspaper 0.0.9.2 depends on nltk==2.0.4\n",
            "    newspaper 0.0.9.1 depends on BeautifulSoup==3.2.1\n",
            "    newspaper 0.0.9 depends on BeautifulSoup==3.2.1\n",
            "    newspaper 0.0.8 depends on BeautifulSoup\n",
            "    newspaper 0.0.3 depends on BeautifulSoup\n",
            "\n",
            "To fix this you could try to:\n",
            "1. loosen the range of package versions you've specified\n",
            "2. remove package versions to allow pip attempt to solve the dependency conflict\n",
            "\n",
            "\u001b[31mERROR: ResolutionImpossible: for help visit https://pip.pypa.io/en/latest/user_guide/#fixing-conflicting-dependencies\u001b[0m\n"
          ]
        }
      ]
    },
    {
      "cell_type": "code",
      "metadata": {
        "colab": {
          "base_uri": "https://localhost:8080/"
        },
        "id": "644xjs27Lj-5",
        "outputId": "832686c5-7a9e-4b11-aa46-d46b5fbabca3"
      },
      "source": [
        "!pip install GoogleNews"
      ],
      "execution_count": null,
      "outputs": [
        {
          "output_type": "stream",
          "name": "stdout",
          "text": [
            "Requirement already satisfied: GoogleNews in /usr/local/lib/python3.7/dist-packages (1.5.9)\n",
            "Requirement already satisfied: dateparser in /usr/local/lib/python3.7/dist-packages (from GoogleNews) (0.7.6)\n",
            "Requirement already satisfied: beautifulsoup4 in /usr/local/lib/python3.7/dist-packages (from GoogleNews) (4.10.0)\n",
            "Requirement already satisfied: python-dateutil in /usr/local/lib/python3.7/dist-packages (from GoogleNews) (2.8.2)\n",
            "Requirement already satisfied: soupsieve>1.2 in /usr/local/lib/python3.7/dist-packages (from beautifulsoup4->GoogleNews) (2.2.1)\n",
            "Requirement already satisfied: tzlocal in /usr/local/lib/python3.7/dist-packages (from dateparser->GoogleNews) (1.5.1)\n",
            "Requirement already satisfied: pytz in /usr/local/lib/python3.7/dist-packages (from dateparser->GoogleNews) (2018.9)\n",
            "Requirement already satisfied: regex!=2019.02.19 in /usr/local/lib/python3.7/dist-packages (from dateparser->GoogleNews) (2019.12.20)\n",
            "Requirement already satisfied: six>=1.5 in /usr/local/lib/python3.7/dist-packages (from python-dateutil->GoogleNews) (1.15.0)\n"
          ]
        }
      ]
    },
    {
      "cell_type": "code",
      "metadata": {
        "colab": {
          "base_uri": "https://localhost:8080/"
        },
        "id": "7vfcpXLMLhwb",
        "outputId": "6ce073d3-71e0-4c00-f265-b45392799161"
      },
      "source": [
        "googlenews=GoogleNews(start='05/01/2020',end='05/31/2020')\n",
        "googlenews.search('Football')\n",
        "result=googlenews.result()\n",
        "df=pd.DataFrame(result)\n",
        "print(df.head())"
      ],
      "execution_count": null,
      "outputs": [
        {
          "output_type": "stream",
          "name": "stdout",
          "text": [
            "                                               title  ...                                                img\n",
            "0  Legendary footballer Gary Lineker on his sport...  ...  data:image/gif;base64,R0lGODlhAQABAIAAAP//////...\n",
            "1  Shula, winningest coach in pro football histor...  ...  data:image/gif;base64,R0lGODlhAQABAIAAAP//////...\n",
            "2  2020 NFL schedule: How to watch, stream every ...  ...  data:image/gif;base64,R0lGODlhAQABAIAAAP//////...\n",
            "3  Five substitutes option temporarily allowed fo...  ...  data:image/gif;base64,R0lGODlhAQABAIAAAP//////...\n",
            "4  Pac-12 Football: Ranking the teams by 5-year a...  ...  data:image/gif;base64,R0lGODlhAQABAIAAAP//////...\n",
            "\n",
            "[5 rows x 7 columns]\n"
          ]
        }
      ]
    },
    {
      "cell_type": "code",
      "metadata": {
        "id": "CLJG6JJEFBTA"
      },
      "source": [
        "# Store the data\n",
        "#df=df.read_csv('Cryptocurrency_News.csv')\n"
      ],
      "execution_count": null,
      "outputs": []
    },
    {
      "cell_type": "code",
      "metadata": {
        "colab": {
          "base_uri": "https://localhost:8080/",
          "height": 408
        },
        "id": "ysRbbH2KPweh",
        "outputId": "d61bad71-2967-4108-c90f-b5930dd84b93"
      },
      "source": [
        "#Create a function to get the polarity \n",
        "def getPolarity(text):\n",
        "  return TextBlob(text).sentiment.polarity \n",
        "\n",
        "# Create one new column called 'Polarity'\n",
        "\n",
        "df['Polarity']=df['title'].apply(getPolarity)\n",
        "\n",
        "#df['Polarity']=df.apply(getPolarity)\n",
        "#Showt he data set with the new column\n",
        "df.head(5)"
      ],
      "execution_count": null,
      "outputs": [
        {
          "output_type": "execute_result",
          "data": {
            "text/html": [
              "<div>\n",
              "<style scoped>\n",
              "    .dataframe tbody tr th:only-of-type {\n",
              "        vertical-align: middle;\n",
              "    }\n",
              "\n",
              "    .dataframe tbody tr th {\n",
              "        vertical-align: top;\n",
              "    }\n",
              "\n",
              "    .dataframe thead th {\n",
              "        text-align: right;\n",
              "    }\n",
              "</style>\n",
              "<table border=\"1\" class=\"dataframe\">\n",
              "  <thead>\n",
              "    <tr style=\"text-align: right;\">\n",
              "      <th></th>\n",
              "      <th>title</th>\n",
              "      <th>media</th>\n",
              "      <th>date</th>\n",
              "      <th>datetime</th>\n",
              "      <th>desc</th>\n",
              "      <th>link</th>\n",
              "      <th>img</th>\n",
              "      <th>Polarity</th>\n",
              "    </tr>\n",
              "  </thead>\n",
              "  <tbody>\n",
              "    <tr>\n",
              "      <th>0</th>\n",
              "      <td>Legendary footballer Gary Lineker on his sport...</td>\n",
              "      <td>CNN</td>\n",
              "      <td>May 16, 2020</td>\n",
              "      <td>2020-05-16</td>\n",
              "      <td>Legendary footballer Gary Lineker on his sport...</td>\n",
              "      <td>https://www.cnn.com/2020/05/15/football/gary-l...</td>\n",
              "      <td>data:image/gif;base64,R0lGODlhAQABAIAAAP//////...</td>\n",
              "      <td>0.516667</td>\n",
              "    </tr>\n",
              "    <tr>\n",
              "      <th>1</th>\n",
              "      <td>Shula, winningest coach in pro football histor...</td>\n",
              "      <td>AP News</td>\n",
              "      <td>May 4, 2020</td>\n",
              "      <td>2020-05-04</td>\n",
              "      <td>Shula, winningest coach in pro football histor...</td>\n",
              "      <td>https://apnews.com/article/bum-phillips-super-...</td>\n",
              "      <td>data:image/gif;base64,R0lGODlhAQABAIAAAP//////...</td>\n",
              "      <td>0.000000</td>\n",
              "    </tr>\n",
              "    <tr>\n",
              "      <th>2</th>\n",
              "      <td>2020 NFL schedule: How to watch, stream every ...</td>\n",
              "      <td>CBS Sports</td>\n",
              "      <td>May 8, 2020</td>\n",
              "      <td>2020-05-08</td>\n",
              "      <td>\"Monday Night Football\" will once again be tel...</td>\n",
              "      <td>https://www.cbssports.com/nfl/news/2020-nfl-sc...</td>\n",
              "      <td>data:image/gif;base64,R0lGODlhAQABAIAAAP//////...</td>\n",
              "      <td>-0.183333</td>\n",
              "    </tr>\n",
              "    <tr>\n",
              "      <th>3</th>\n",
              "      <td>Five substitutes option temporarily allowed fo...</td>\n",
              "      <td></td>\n",
              "      <td>May 8, 2020</td>\n",
              "      <td>2020-05-08</td>\n",
              "      <td>As football begins to consider resumption of c...</td>\n",
              "      <td>https://www.fifa.com/media-releases/five-subst...</td>\n",
              "      <td>data:image/gif;base64,R0lGODlhAQABAIAAAP//////...</td>\n",
              "      <td>0.000000</td>\n",
              "    </tr>\n",
              "    <tr>\n",
              "      <th>4</th>\n",
              "      <td>Pac-12 Football: Ranking the teams by 5-year a...</td>\n",
              "      <td>Pacific Takes</td>\n",
              "      <td>May 27, 2020</td>\n",
              "      <td>2020-05-27</td>\n",
              "      <td>Thanks to the fine people at College Football ...</td>\n",
              "      <td>https://www.pacifictakes.com/2020/5/27/2127220...</td>\n",
              "      <td>data:image/gif;base64,R0lGODlhAQABAIAAAP//////...</td>\n",
              "      <td>0.000000</td>\n",
              "    </tr>\n",
              "  </tbody>\n",
              "</table>\n",
              "</div>"
            ],
            "text/plain": [
              "                                               title  ...  Polarity\n",
              "0  Legendary footballer Gary Lineker on his sport...  ...  0.516667\n",
              "1  Shula, winningest coach in pro football histor...  ...  0.000000\n",
              "2  2020 NFL schedule: How to watch, stream every ...  ... -0.183333\n",
              "3  Five substitutes option temporarily allowed fo...  ...  0.000000\n",
              "4  Pac-12 Football: Ranking the teams by 5-year a...  ...  0.000000\n",
              "\n",
              "[5 rows x 8 columns]"
            ]
          },
          "metadata": {},
          "execution_count": 52
        }
      ]
    },
    {
      "cell_type": "code",
      "metadata": {
        "id": "d5nsMS00TnNa"
      },
      "source": [
        "# Create a function to compute negative, neutral and positive sentiments\n",
        "def getSentiment(score):\n",
        "  if score<0:\n",
        "    return 'Negative'\n",
        "  elif score == 0:\n",
        "    return 'Neutral'\n",
        "  else:\n",
        "    return 'Positive'\n",
        "\n",
        "\n",
        "# Create a new column to store the sentiment\n",
        "df['Sentiment']= df['Polarity'].apply(getSentiment)\n"
      ],
      "execution_count": null,
      "outputs": []
    },
    {
      "cell_type": "code",
      "metadata": {
        "colab": {
          "base_uri": "https://localhost:8080/",
          "height": 374
        },
        "id": "PtyxtEDaVGbc",
        "outputId": "f2efa9f9-a86c-446b-a8f0-7e3c7ff4db75"
      },
      "source": [
        "#Plot and visualize the sntiment count\n",
        "plt.title('Sentiment Analysis')\n",
        "df['Sentiment'].value_counts().plot(kind='bar')\n",
        "plt.xlabel('Sentiments')\n",
        "plt.ylabel('Counts')\n",
        "plt.show()"
      ],
      "execution_count": null,
      "outputs": [
        {
          "output_type": "display_data",
          "data": {
            "image/png": "[encoded data removed]",
            "text/plain": [
              "<Figure size 432x288 with 1 Axes>"
            ]
          },
          "metadata": {}
        }
      ]
    },
    {
      "cell_type": "code",
      "metadata": {
        "colab": {
          "base_uri": "https://localhost:8080/",
          "height": 349
        },
        "id": "sxHHJRuBWas6",
        "outputId": "cb203cfd-b879-4ae5-8b25-de2593793678"
      },
      "source": [
        "# Plot ths sum of the polarity of each date\n",
        "plt.figure(figsize=(12.33, 4.5))\n",
        "plt.title('Sentiment Sum Over Time')\n",
        "Polarity=df.groupby(['date']).sum()['Polarity']\n",
        "plt.plot(Polarity.index, Polarity)"
      ],
      "execution_count": null,
      "outputs": [
        {
          "output_type": "execute_result",
          "data": {
            "text/plain": [
              "[<matplotlib.lines.Line2D at 0x7fbd15101710>]"
            ]
          },
          "metadata": {},
          "execution_count": 55
        },
        {
          "output_type": "display_data",
          "data": {
            "image/png": "[encoded data removed]",
            "text/plain": [
              "<Figure size 887.76x324 with 1 Axes>"
            ]
          },
          "metadata": {}
        }
      ]
    },
    {
      "cell_type": "code",
      "metadata": {
        "colab": {
          "base_uri": "https://localhost:8080/"
        },
        "id": "bZjXQK14XUj7",
        "outputId": "f43adb29-2e98-42bb-b7ca-d346926f8043"
      },
      "source": [
        "# Show the sum of the polarity for each date\n",
        "Polarity"
      ],
      "execution_count": null,
      "outputs": [
        {
          "output_type": "execute_result",
          "data": {
            "text/plain": [
              "date\n",
              "May 16, 2020    0.516667\n",
              "May 17, 2020    0.000000\n",
              "May 2, 2020     0.000000\n",
              "May 21, 2020   -0.500000\n",
              "May 27, 2020    0.000000\n",
              "May 30, 2020    0.000000\n",
              "May 4, 2020     0.000000\n",
              "May 8, 2020    -0.183333\n",
              "Name: Polarity, dtype: float64"
            ]
          },
          "metadata": {},
          "execution_count": 56
        }
      ]
    },
    {
      "cell_type": "code",
      "metadata": {
        "colab": {
          "base_uri": "https://localhost:8080/"
        },
        "id": "WrRKcH7xYgFp",
        "outputId": "31b927d1-c99f-434e-d060-15f52e9b7733"
      },
      "source": [
        "# Get the count of each ariticle per date\n",
        "polarity_count=df.groupby(['date']).count()['Polarity']\n",
        "#Show the data\n",
        "polarity_count"
      ],
      "execution_count": null,
      "outputs": [
        {
          "output_type": "execute_result",
          "data": {
            "text/plain": [
              "date\n",
              "May 16, 2020    1\n",
              "May 17, 2020    1\n",
              "May 2, 2020     1\n",
              "May 21, 2020    1\n",
              "May 27, 2020    1\n",
              "May 30, 2020    2\n",
              "May 4, 2020     1\n",
              "May 8, 2020     2\n",
              "Name: Polarity, dtype: int64"
            ]
          },
          "metadata": {},
          "execution_count": 57
        }
      ]
    },
    {
      "cell_type": "code",
      "metadata": {
        "colab": {
          "base_uri": "https://localhost:8080/"
        },
        "id": "xc5klqJNYaNj",
        "outputId": "0b9acb6a-31ea-4512-dfb3-e4e8adb5b2c1"
      },
      "source": [
        "# Show the average sentiment for each day \n",
        "\n",
        "polarity_avg=Polarity/ polarity_count\n",
        "polarity_avg"
      ],
      "execution_count": null,
      "outputs": [
        {
          "output_type": "execute_result",
          "data": {
            "text/plain": [
              "date\n",
              "May 16, 2020    0.516667\n",
              "May 17, 2020    0.000000\n",
              "May 2, 2020     0.000000\n",
              "May 21, 2020   -0.500000\n",
              "May 27, 2020    0.000000\n",
              "May 30, 2020    0.000000\n",
              "May 4, 2020     0.000000\n",
              "May 8, 2020    -0.091667\n",
              "Name: Polarity, dtype: float64"
            ]
          },
          "metadata": {},
          "execution_count": 58
        }
      ]
    },
    {
      "cell_type": "code",
      "metadata": {
        "colab": {
          "base_uri": "https://localhost:8080/",
          "height": 349
        },
        "id": "mu5-u1ZqZGcG",
        "outputId": "cf17d2b4-0841-405c-bb88-72b8b05637d8"
      },
      "source": [
        "#Plot the average sentiment over time\n",
        "plt.figure(figsize=(12.33,4.5))\n",
        "plt.title('Sentiment Analysis')\n",
        "plt.plot(polarity_avg.index, polarity_avg)"
      ],
      "execution_count": null,
      "outputs": [
        {
          "output_type": "execute_result",
          "data": {
            "text/plain": [
              "[<matplotlib.lines.Line2D at 0x7fbd151e47d0>]"
            ]
          },
          "metadata": {},
          "execution_count": 59
        },
        {
          "output_type": "display_data",
          "data": {
            "image/png": "[encoded data removed]",
            "text/plain": [
              "<Figure size 887.76x324 with 1 Axes>"
            ]
          },
          "metadata": {}
        }
      ]
    },
    {
      "cell_type": "markdown",
      "metadata": {
        "id": "xJhrOa3wYAVw"
      },
      "source": [
        "Additional code to get Data"
      ]
    },
    {
      "cell_type": "code",
      "metadata": {
        "colab": {
          "base_uri": "https://localhost:8080/"
        },
        "id": "dSiag7blW_aN",
        "outputId": "118992da-864f-4e1c-913f-68170c5343a9"
      },
      "source": [
        "!pip install newspaper"
      ],
      "execution_count": null,
      "outputs": [
        {
          "output_type": "stream",
          "name": "stdout",
          "text": [
            "Collecting newspaper\n",
            "  Using cached newspaper-0.1.0.7.tar.gz (176 kB)\n",
            "\u001b[33mWARNING: Discarding https://files.pythonhosted.org/packages/d8/07/5765cc9c36e2be1a0f0e615b7a092129e1ba30a25182506dea437290c193/newspaper-0.1.0.7.tar.gz#sha256=929ea447660d2633d3eea6c2aba703b549f7cdd56bd5cf636eb8f1454b254945 (from https://pypi.org/simple/newspaper/). Command errored out with exit status 1: python setup.py egg_info Check the logs for full command output.\u001b[0m\n",
            "  Using cached newspaper-0.1.0.6.tar.gz (176 kB)\n",
            "Collecting beautifulsoup4==4.3.2\n",
            "  Using cached beautifulsoup4-4.3.2.tar.gz (143 kB)\n",
            "Collecting Pillow==2.5.1\n",
            "  Using cached Pillow-2.5.1.zip (6.9 MB)\n",
            "Collecting PyYAML==3.11\n",
            "  Using cached PyYAML-3.11.zip (371 kB)\n",
            "Collecting cssselect==0.9.1\n",
            "  Using cached cssselect-0.9.1.tar.gz (32 kB)\n",
            "Collecting lxml==3.3.5\n",
            "  Using cached lxml-3.3.5.tar.gz (3.5 MB)\n",
            "Collecting nltk==2.0.5\n",
            "  Using cached nltk-2.0.5.zip (1.1 MB)\n",
            "\u001b[33mWARNING: Discarding https://files.pythonhosted.org/packages/61/32/c7d454c7d232034dfb492b6ef5d749b367c58e0a0f2ed4125eb4089b9227/nltk-2.0.5.zip#sha256=edbeb82d03ef6fe24d4ec8380998d23cb2e36eb43350c9f33e932fe07de42cd5 (from https://pypi.org/simple/nltk/). Command errored out with exit status 1: python setup.py egg_info Check the logs for full command output.\u001b[0m\n",
            "  Using cached nltk-2.0.5.tar.gz (954 kB)\n",
            "\u001b[33mWARNING: Discarding https://files.pythonhosted.org/packages/50/9e/39418026bf8013bbc2852c7aec3fb21e4339f6cd694934496d67a19b53b8/nltk-2.0.5.tar.gz#sha256=590b1752fb39427ad8018a65f72355c22e8276d476699aa4a488e38c1b17889a (from https://pypi.org/simple/nltk/). Command errored out with exit status 1: python setup.py egg_info Check the logs for full command output.\u001b[0m\n",
            "Collecting newspaper\n",
            "  Using cached newspaper-0.1.0.5.tar.gz (49 kB)\n",
            "\u001b[33mWARNING: Discarding https://files.pythonhosted.org/packages/57/21/35a7e7040e70a628b526c6830e6f506868f54dcaadffbe57cb3d393af5cb/newspaper-0.1.0.5.tar.gz#sha256=b346e615f5a0c8ac5ab1ebab2420ad24fda7fc78198cae32f1b3fed640dde788 (from https://pypi.org/simple/newspaper/). Command errored out with exit status 1: python setup.py egg_info Check the logs for full command output.\u001b[0m\n",
            "  Using cached newspaper-0.1.0.4.tar.gz (49 kB)\n",
            "\u001b[33mWARNING: Discarding https://files.pythonhosted.org/packages/da/a3/88885ac6e2f65b84f23511da21bdd486d63d2a035d0adab6e4ef89cd4c25/newspaper-0.1.0.4.tar.gz#sha256=927edcccb7d57905fbd24fde4fb3879ffcc59d082877ac7c40963f795372cb67 (from https://pypi.org/simple/newspaper/). Command errored out with exit status 1: python setup.py egg_info Check the logs for full command output.\u001b[0m\n",
            "  Using cached newspaper-0.1.0.3.tar.gz (49 kB)\n",
            "\u001b[33mWARNING: Discarding https://files.pythonhosted.org/packages/4f/59/140bdf8b9413c552fdfa73eb01b6622eaa8ed62ded2f390c4062b58f58bb/newspaper-0.1.0.3.tar.gz#sha256=d2eb46563c973a4046e82580d6193df42b86bff12cbfcb39e9780b0f7dc24595 (from https://pypi.org/simple/newspaper/). Command errored out with exit status 1: python setup.py egg_info Check the logs for full command output.\u001b[0m\n",
            "  Using cached newspaper-0.1.0.2.tar.gz (180 kB)\n",
            "  Using cached newspaper-0.1.0.1.tar.gz (49 kB)\n",
            "\u001b[33mWARNING: Discarding https://files.pythonhosted.org/packages/9c/57/e6af9770c3241725fbf7a79c6f2954988947202e2cab01cdf53457f039a8/newspaper-0.1.0.1.tar.gz#sha256=bc40cf56e35f0c6fe79b77f3a4c84a950de9f66559a51bd280e3c363796afc75 (from https://pypi.org/simple/newspaper/). Command errored out with exit status 1: python setup.py egg_info Check the logs for full command output.\u001b[0m\n",
            "  Using cached newspaper-0.1.0.0.tar.gz (49 kB)\n",
            "\u001b[33mWARNING: Discarding https://files.pythonhosted.org/packages/be/7b/a34b526cf37727ef353ff46217173a67a598fbbf3d8dbd80b899e51af45c/newspaper-0.1.0.0.tar.gz#sha256=8c71680c09c39642be06d632149fe0e44a93ae5494e9f98c19fc79d6d21817bf (from https://pypi.org/simple/newspaper/). Command errored out with exit status 1: python setup.py egg_info Check the logs for full command output.\u001b[0m\n",
            "  Using cached newspaper-0.0.9.9.tar.gz (49 kB)\n",
            "\u001b[33mWARNING: Discarding https://files.pythonhosted.org/packages/ad/b6/02023ed7543c280cbd18eef61502b97f63eed842a1414f7596e370a97362/newspaper-0.0.9.9.tar.gz#sha256=e2449afd697d9280c78301e4d1e385fd7d6dc73e0a4a130c35f0e909f1804402 (from https://pypi.org/simple/newspaper/). Command errored out with exit status 1: python setup.py egg_info Check the logs for full command output.\u001b[0m\n",
            "  Using cached newspaper-0.0.9.8.tar.gz (248 kB)\n",
            "  Using cached newspaper-0.0.9.6.tar.gz (244 kB)\n",
            "Collecting nltk==2.0.4\n",
            "  Using cached nltk-2.0.4.zip (1.1 MB)\n",
            "\u001b[33mWARNING: Discarding https://files.pythonhosted.org/packages/25/a7/f8938bdf6f6d17e37e882b67f1362c0fdb6a8a609a69252b6033d6c546c5/nltk-2.0.4.zip#sha256=70936b0cf30710a1d63df152c3286af39af37b131cd176c0202e6665a8630632 (from https://pypi.org/simple/nltk/). Command errored out with exit status 1: python setup.py egg_info Check the logs for full command output.\u001b[0m\n",
            "  Using cached nltk-2.0.4.tar.gz (955 kB)\n",
            "\u001b[33mWARNING: Discarding https://files.pythonhosted.org/packages/81/f6/30c4eb35ad7a4b5e9301943c8738b79ebb8152f0986e877f809b8e295c61/nltk-2.0.4.tar.gz#sha256=a554d6b9c5c7c8b597a090d8848a6f78c6fc4665ae43c9a6a6d6a5b207d98c65 (from https://pypi.org/simple/nltk/). Command errored out with exit status 1: python setup.py egg_info Check the logs for full command output.\u001b[0m\n",
            "Collecting newspaper\n",
            "  Using cached newspaper-0.0.9.5.tar.gz (244 kB)\n",
            "  Using cached newspaper-0.0.9.2.tar.gz (242 kB)\n",
            "  Using cached newspaper-0.0.9.1.tar.gz (760 kB)\n",
            "Collecting BeautifulSoup==3.2.1\n",
            "  Using cached BeautifulSoup-3.2.1.tar.gz (31 kB)\n",
            "\u001b[33mWARNING: Discarding https://files.pythonhosted.org/packages/1e/ee/295988deca1a5a7accd783d0dfe14524867e31abb05b6c0eeceee49c759d/BeautifulSoup-3.2.1.tar.gz#sha256=6a8cb4401111e011b579c8c52a51cdab970041cc543814bbd9577a4529fe1cdb (from https://pypi.org/simple/beautifulsoup/). Command errored out with exit status 1: python setup.py egg_info Check the logs for full command output.\u001b[0m\n",
            "Collecting newspaper\n",
            "  Using cached newspaper-0.0.9.tar.gz (760 kB)\n",
            "  Using cached newspaper-0.0.8.tar.gz (6.9 MB)\n",
            "Requirement already satisfied: lxml in /usr/local/lib/python3.7/dist-packages (from newspaper) (4.2.6)\n",
            "Requirement already satisfied: requests in /usr/local/lib/python3.7/dist-packages (from newspaper) (2.26.0)\n",
            "Requirement already satisfied: nltk in /usr/local/lib/python3.7/dist-packages (from newspaper) (3.2.5)\n",
            "Requirement already satisfied: Pillow in /usr/local/lib/python3.7/dist-packages (from newspaper) (7.1.2)\n",
            "Collecting cssselect\n",
            "  Using cached cssselect-1.1.0-py2.py3-none-any.whl (16 kB)\n",
            "Collecting BeautifulSoup\n",
            "  Using cached BeautifulSoup-3.2.2.tar.gz (32 kB)\n",
            "\u001b[33mWARNING: Discarding https://files.pythonhosted.org/packages/40/f2/6c9f2f3e696ee6a1fb0e4d7850617e224ed2b0b1e872110abffeca2a09d4/BeautifulSoup-3.2.2.tar.gz#sha256=a04169602bff6e3138b1259dbbf491f5a27f9499dea9a8fbafd48843f9d89970 (from https://pypi.org/simple/beautifulsoup/). Command errored out with exit status 1: python setup.py egg_info Check the logs for full command output.\u001b[0m\n",
            "  Using cached BeautifulSoup-3.2.0.tar.gz (31 kB)\n",
            "\u001b[33mWARNING: Discarding https://files.pythonhosted.org/packages/33/fe/15326560884f20d792d3ffc7fe8f639aab88647c9d46509a240d9bfbb6b1/BeautifulSoup-3.2.0.tar.gz#sha256=0dc52d07516c1665c9dd9f0a390a7a054bfb7b147a50b2866fb116b8909dfd37 (from https://pypi.org/simple/beautifulsoup/). Command errored out with exit status 1: python setup.py egg_info Check the logs for full command output.\u001b[0m\n",
            "Collecting newspaper\n",
            "  Using cached newspaper-0.0.7.tar.gz (6.9 MB)\n",
            "\u001b[33mWARNING: Discarding https://files.pythonhosted.org/packages/6f/ed/2a56827d9291bd27251d60bfd11affd3dce7d24ba929014bbd4975a17eca/newspaper-0.0.7.tar.gz#sha256=a29c39e9c1c142238249208aed07204047c4a0b1cdcc92138dc98953cf66f7c3 (from https://pypi.org/simple/newspaper/). Command errored out with exit status 1: python setup.py egg_info Check the logs for full command output.\u001b[0m\n",
            "  Using cached newspaper-0.0.6.tar.gz (7.0 MB)\n",
            "\u001b[33mWARNING: Discarding https://files.pythonhosted.org/packages/d7/7f/ddcd5263d1fa14936786b01f62e75a4f806f98cb2255587af00ccb08b97b/newspaper-0.0.6.tar.gz#sha256=7bb92ecf4ef26dc3121b798e933dfc4cce3eb95d1d9e4ae01887231f12e30f9d (from https://pypi.org/simple/newspaper/). Command errored out with exit status 1: python setup.py egg_info Check the logs for full command output.\u001b[0m\n",
            "  Using cached newspaper-0.0.5.tar.gz (7.7 MB)\n",
            "\u001b[33mWARNING: Discarding https://files.pythonhosted.org/packages/de/4b/3279534d13073ea8958edff3b97e39e853faec4436e1c9d805f9cf6e9f23/newspaper-0.0.5.tar.gz#sha256=7fe4fa9121bb07707fa2489479ab7994a056ca9cc3a848ed634d5537c7eaa0bc (from https://pypi.org/simple/newspaper/). Command errored out with exit status 1: python setup.py egg_info Check the logs for full command output.\u001b[0m\n",
            "  Using cached newspaper-0.0.4.tar.gz (6.7 MB)\n",
            "\u001b[33mWARNING: Discarding https://files.pythonhosted.org/packages/44/10/cc8abed3de450ea2925601e29951eec9658a19f18572429cc29380ec7ac8/newspaper-0.0.4.tar.gz#sha256=359934ee0c47015687ac3b71d51c7d1a87e8b95ff96135bdbe5c4d2e2c20c735 (from https://pypi.org/simple/newspaper/). Command errored out with exit status 1: python setup.py egg_info Check the logs for full command output.\u001b[0m\n",
            "  Using cached newspaper-0.0.3.tar.gz (10.8 MB)\n",
            "Collecting lxml==3.2.4\n",
            "  Using cached lxml-3.2.4.tar.gz (3.3 MB)\n",
            "Collecting newspaper\n",
            "  Using cached newspaper-0.0.2.tar.gz (10.8 MB)\n",
            "\u001b[33mWARNING: Discarding https://files.pythonhosted.org/packages/6f/d3/c73ee757a0d2cd493a7d1ad16482902761ca5be3a52d971bce0cbf17b6fd/newspaper-0.0.2.tar.gz#sha256=a94c0427bc20448242457873d9dddb8c872ce82a6fb342b90b72bec790a117ab (from https://pypi.org/simple/newspaper/). Command errored out with exit status 1: python setup.py egg_info Check the logs for full command output.\u001b[0m\n",
            "\u001b[31mERROR: Cannot install newspaper==0.0.3, newspaper==0.0.8, newspaper==0.0.9, newspaper==0.0.9.1, newspaper==0.0.9.2, newspaper==0.0.9.5, newspaper==0.0.9.6, newspaper==0.0.9.8, newspaper==0.1.0.2 and newspaper==0.1.0.6 because these package versions have conflicting dependencies.\u001b[0m\n",
            "\n",
            "The conflict is caused by:\n",
            "    newspaper 0.1.0.6 depends on nltk==2.0.5\n",
            "    newspaper 0.1.0.2 depends on nltk==2.0.5\n",
            "    newspaper 0.0.9.8 depends on nltk==2.0.5\n",
            "    newspaper 0.0.9.6 depends on nltk==2.0.4\n",
            "    newspaper 0.0.9.5 depends on nltk==2.0.4\n",
            "    newspaper 0.0.9.2 depends on nltk==2.0.4\n",
            "    newspaper 0.0.9.1 depends on BeautifulSoup==3.2.1\n",
            "    newspaper 0.0.9 depends on BeautifulSoup==3.2.1\n",
            "    newspaper 0.0.8 depends on BeautifulSoup\n",
            "    newspaper 0.0.3 depends on BeautifulSoup\n",
            "\n",
            "To fix this you could try to:\n",
            "1. loosen the range of package versions you've specified\n",
            "2. remove package versions to allow pip attempt to solve the dependency conflict\n",
            "\n",
            "\u001b[31mERROR: ResolutionImpossible: for help visit https://pip.pypa.io/en/latest/user_guide/#fixing-conflicting-dependencies\u001b[0m\n"
          ]
        }
      ]
    },
    {
      "cell_type": "code",
      "metadata": {
        "id": "MqEBrtdwXnZU"
      },
      "source": [
        "!pip install newspaper3k"
      ],
      "execution_count": null,
      "outputs": []
    },
    {
      "cell_type": "code",
      "metadata": {
        "id": "3vNGAkVZWZro"
      },
      "source": [
        "from newspaper import Article"
      ],
      "execution_count": null,
      "outputs": []
    },
    {
      "cell_type": "code",
      "metadata": {
        "id": "WyetkbHiX7Fv"
      },
      "source": [
        "\n",
        "from GoogleNews import GoogleNews\n",
        "from newspaper import Article\n",
        "from newspaper import Config\n",
        "import pandas as pd\n",
        "import nltk"
      ],
      "execution_count": null,
      "outputs": []
    },
    {
      "cell_type": "code",
      "metadata": {
        "colab": {
          "base_uri": "https://localhost:8080/",
          "height": 231
        },
        "id": "8leRLHasWRSS",
        "outputId": "7832d716-64a0-402f-e2a1-47d341b73f4d"
      },
      "source": [
        "for ind in df.index:\n",
        "    dict={}\n",
        "    article = Article(df['link'][ind])\n",
        "    article.download()\n",
        "    article.parse()\n",
        "    article.nlp()\n",
        "    dict['Date']=df['date'][ind]\n",
        "    dict['Media']=df['media'][ind]\n",
        "    dict['Title']=article.title\n",
        "    dict['Article']=article.text\n",
        "    dict['Summary']=article.summary\n",
        "    list.append(dict)\n",
        "news_df=pd.DataFrame(list)\n",
        "#news_df.to_excel(\"articles.xlsx\")"
      ],
      "execution_count": null,
      "outputs": [
        {
          "output_type": "error",
          "ename": "TypeError",
          "evalue": "ignored",
          "traceback": [
            "\u001b[0;31m---------------------------------------------------------------------------\u001b[0m",
            "\u001b[0;31mTypeError\u001b[0m                                 Traceback (most recent call last)",
            "\u001b[0;32m<ipython-input-77-8f40b0a7f440>\u001b[0m in \u001b[0;36m<module>\u001b[0;34m()\u001b[0m\n\u001b[1;32m     10\u001b[0m     \u001b[0mdict\u001b[0m\u001b[0;34m[\u001b[0m\u001b[0;34m'Article'\u001b[0m\u001b[0;34m]\u001b[0m\u001b[0;34m=\u001b[0m\u001b[0marticle\u001b[0m\u001b[0;34m.\u001b[0m\u001b[0mtext\u001b[0m\u001b[0;34m\u001b[0m\u001b[0;34m\u001b[0m\u001b[0m\n\u001b[1;32m     11\u001b[0m     \u001b[0mdict\u001b[0m\u001b[0;34m[\u001b[0m\u001b[0;34m'Summary'\u001b[0m\u001b[0;34m]\u001b[0m\u001b[0;34m=\u001b[0m\u001b[0marticle\u001b[0m\u001b[0;34m.\u001b[0m\u001b[0msummary\u001b[0m\u001b[0;34m\u001b[0m\u001b[0;34m\u001b[0m\u001b[0m\n\u001b[0;32m---> 12\u001b[0;31m     \u001b[0mlist\u001b[0m\u001b[0;34m.\u001b[0m\u001b[0mappend\u001b[0m\u001b[0;34m(\u001b[0m\u001b[0mdict\u001b[0m\u001b[0;34m)\u001b[0m\u001b[0;34m\u001b[0m\u001b[0;34m\u001b[0m\u001b[0m\n\u001b[0m\u001b[1;32m     13\u001b[0m \u001b[0mnews_df\u001b[0m\u001b[0;34m=\u001b[0m\u001b[0mpd\u001b[0m\u001b[0;34m.\u001b[0m\u001b[0mDataFrame\u001b[0m\u001b[0;34m(\u001b[0m\u001b[0mlist\u001b[0m\u001b[0;34m)\u001b[0m\u001b[0;34m\u001b[0m\u001b[0;34m\u001b[0m\u001b[0m\n\u001b[1;32m     14\u001b[0m \u001b[0;31m#news_df.to_excel(\"articles.xlsx\")\u001b[0m\u001b[0;34m\u001b[0m\u001b[0;34m\u001b[0m\u001b[0;34m\u001b[0m\u001b[0m\n",
            "\u001b[0;31mTypeError\u001b[0m: descriptor 'append' requires a 'list' object but received a 'dict'"
          ]
        }
      ]
    },
    {
      "cell_type": "code",
      "metadata": {
        "id": "goDx-wmOYrJi"
      },
      "source": [
        "for i in range(2,20):\n",
        "    googlenews.getpage(i)\n",
        "    result=googlenews.result()\n",
        "    df=pd.DataFrame(result)\n",
        "list=[]"
      ],
      "execution_count": null,
      "outputs": []
    },
    {
      "cell_type": "code",
      "metadata": {
        "colab": {
          "base_uri": "https://localhost:8080/"
        },
        "id": "XnOXFh7NYZhz",
        "outputId": "8ed9845d-9eca-4d9b-f08d-8c9be6a722af"
      },
      "source": [
        "nltk.download('punkt')"
      ],
      "execution_count": null,
      "outputs": [
        {
          "output_type": "stream",
          "name": "stdout",
          "text": [
            "[nltk_data] Downloading package punkt to /root/nltk_data...\n",
            "[nltk_data]   Unzipping tokenizers/punkt.zip.\n"
          ]
        },
        {
          "output_type": "execute_result",
          "data": {
            "text/plain": [
              "True"
            ]
          },
          "metadata": {},
          "execution_count": 74
        }
      ]
    },
    {
      "cell_type": "code",
      "metadata": {
        "colab": {
          "base_uri": "https://localhost:8080/",
          "height": 561
        },
        "id": "wpxVVHMIZ5AN",
        "outputId": "ebada812-ea36-491b-8598-97917bb61712"
      },
      "source": [
        "from GoogleNews import GoogleNews\n",
        "from newspaper import Article\n",
        "from newspaper import Config\n",
        "import pandas as pd\n",
        "import nltk\n",
        "#config will allow us to access the specified url for which we are #not authorized. Sometimes we may get 403 client error while parsing #the link to download the article.\n",
        "nltk.download('punkt')\n",
        "\n",
        "user_agent = 'Mozilla/5.0 (Macintosh; Intel Mac OS X 10_11_5) AppleWebKit/537.36 (KHTML, like Gecko) Chrome/50.0.2661.102 Safari/537.36'\n",
        "config = Config()\n",
        "config.browser_user_agent = user_agent\n",
        "googlenews=GoogleNews(start='05/01/2020',end='05/31/2020')\n",
        "googlenews.search('Coronavirus')\n",
        "result=googlenews.result()\n",
        "df=pd.DataFrame(result)\n",
        "print(df.head())\n",
        "for i in range(2,20):\n",
        "    googlenews.getpage(i)\n",
        "    result=googlenews.result()\n",
        "    df=pd.DataFrame(result)\n",
        "list=[]\n",
        "for ind in df.index:\n",
        "    dict={}\n",
        "    article = Article(df['link'][ind],config=config)\n",
        "    article.download()\n",
        "    article.parse()\n",
        "    article.nlp()\n",
        "    dict['Date']=df['date'][ind]\n",
        "    dict['Media']=df['media'][ind]\n",
        "    dict['Title']=article.title\n",
        "    dict['Article']=article.text\n",
        "    dict['Summary']=article.summary\n",
        "    list.append(dict)\n",
        "news_df=pd.DataFrame(list)\n",
        "news_df.to_excel(\"articles.xlsx\")"
      ],
      "execution_count": null,
      "outputs": [
        {
          "output_type": "stream",
          "name": "stdout",
          "text": [
            "[nltk_data] Downloading package punkt to /root/nltk_data...\n",
            "[nltk_data]   Package punkt is already up-to-date!\n",
            "                                               title  ...                                                img\n",
            "0    White House to wind down coronavirus task force  ...  data:image/gif;base64,R0lGODlhAQABAIAAAP//////...\n",
            "1  Coronavirus Vaccine Research Gets $8 Billion i...  ...  data:image/gif;base64,R0lGODlhAQABAIAAAP//////...\n",
            "2  Reviewing Coronavirus Food Assistance Program ...  ...  data:image/gif;base64,R0lGODlhAQABAIAAAP//////...\n",
            "3  Navajo nation reels under weight of coronaviru...  ...  data:image/gif;base64,R0lGODlhAQABAIAAAP//////...\n",
            "4  Coronavirus model projects 134,000 deaths in U...  ...  data:image/gif;base64,R0lGODlhAQABAIAAAP//////...\n",
            "\n",
            "[5 rows x 7 columns]\n"
          ]
        },
        {
          "output_type": "error",
          "ename": "ArticleException",
          "evalue": "ignored",
          "traceback": [
            "\u001b[0;31m---------------------------------------------------------------------------\u001b[0m",
            "\u001b[0;31mArticleException\u001b[0m                          Traceback (most recent call last)",
            "\u001b[0;32m<ipython-input-79-70e0b8a9b9dd>\u001b[0m in \u001b[0;36m<module>\u001b[0;34m()\u001b[0m\n\u001b[1;32m     24\u001b[0m     \u001b[0marticle\u001b[0m \u001b[0;34m=\u001b[0m \u001b[0mArticle\u001b[0m\u001b[0;34m(\u001b[0m\u001b[0mdf\u001b[0m\u001b[0;34m[\u001b[0m\u001b[0;34m'link'\u001b[0m\u001b[0;34m]\u001b[0m\u001b[0;34m[\u001b[0m\u001b[0mind\u001b[0m\u001b[0;34m]\u001b[0m\u001b[0;34m,\u001b[0m\u001b[0mconfig\u001b[0m\u001b[0;34m=\u001b[0m\u001b[0mconfig\u001b[0m\u001b[0;34m)\u001b[0m\u001b[0;34m\u001b[0m\u001b[0;34m\u001b[0m\u001b[0m\n\u001b[1;32m     25\u001b[0m     \u001b[0marticle\u001b[0m\u001b[0;34m.\u001b[0m\u001b[0mdownload\u001b[0m\u001b[0;34m(\u001b[0m\u001b[0;34m)\u001b[0m\u001b[0;34m\u001b[0m\u001b[0;34m\u001b[0m\u001b[0m\n\u001b[0;32m---> 26\u001b[0;31m     \u001b[0marticle\u001b[0m\u001b[0;34m.\u001b[0m\u001b[0mparse\u001b[0m\u001b[0;34m(\u001b[0m\u001b[0;34m)\u001b[0m\u001b[0;34m\u001b[0m\u001b[0;34m\u001b[0m\u001b[0m\n\u001b[0m\u001b[1;32m     27\u001b[0m     \u001b[0marticle\u001b[0m\u001b[0;34m.\u001b[0m\u001b[0mnlp\u001b[0m\u001b[0;34m(\u001b[0m\u001b[0;34m)\u001b[0m\u001b[0;34m\u001b[0m\u001b[0;34m\u001b[0m\u001b[0m\n\u001b[1;32m     28\u001b[0m     \u001b[0mdict\u001b[0m\u001b[0;34m[\u001b[0m\u001b[0;34m'Date'\u001b[0m\u001b[0;34m]\u001b[0m\u001b[0;34m=\u001b[0m\u001b[0mdf\u001b[0m\u001b[0;34m[\u001b[0m\u001b[0;34m'date'\u001b[0m\u001b[0;34m]\u001b[0m\u001b[0;34m[\u001b[0m\u001b[0mind\u001b[0m\u001b[0;34m]\u001b[0m\u001b[0;34m\u001b[0m\u001b[0;34m\u001b[0m\u001b[0m\n",
            "\u001b[0;32m/usr/local/lib/python3.7/dist-packages/newspaper/article.py\u001b[0m in \u001b[0;36mparse\u001b[0;34m(self)\u001b[0m\n\u001b[1;32m    189\u001b[0m \u001b[0;34m\u001b[0m\u001b[0m\n\u001b[1;32m    190\u001b[0m     \u001b[0;32mdef\u001b[0m \u001b[0mparse\u001b[0m\u001b[0;34m(\u001b[0m\u001b[0mself\u001b[0m\u001b[0;34m)\u001b[0m\u001b[0;34m:\u001b[0m\u001b[0;34m\u001b[0m\u001b[0;34m\u001b[0m\u001b[0m\n\u001b[0;32m--> 191\u001b[0;31m         \u001b[0mself\u001b[0m\u001b[0;34m.\u001b[0m\u001b[0mthrow_if_not_downloaded_verbose\u001b[0m\u001b[0;34m(\u001b[0m\u001b[0;34m)\u001b[0m\u001b[0;34m\u001b[0m\u001b[0;34m\u001b[0m\u001b[0m\n\u001b[0m\u001b[1;32m    192\u001b[0m \u001b[0;34m\u001b[0m\u001b[0m\n\u001b[1;32m    193\u001b[0m         \u001b[0mself\u001b[0m\u001b[0;34m.\u001b[0m\u001b[0mdoc\u001b[0m \u001b[0;34m=\u001b[0m \u001b[0mself\u001b[0m\u001b[0;34m.\u001b[0m\u001b[0mconfig\u001b[0m\u001b[0;34m.\u001b[0m\u001b[0mget_parser\u001b[0m\u001b[0;34m(\u001b[0m\u001b[0;34m)\u001b[0m\u001b[0;34m.\u001b[0m\u001b[0mfromstring\u001b[0m\u001b[0;34m(\u001b[0m\u001b[0mself\u001b[0m\u001b[0;34m.\u001b[0m\u001b[0mhtml\u001b[0m\u001b[0;34m)\u001b[0m\u001b[0;34m\u001b[0m\u001b[0;34m\u001b[0m\u001b[0m\n",
            "\u001b[0;32m/usr/local/lib/python3.7/dist-packages/newspaper/article.py\u001b[0m in \u001b[0;36mthrow_if_not_downloaded_verbose\u001b[0;34m(self)\u001b[0m\n\u001b[1;32m    530\u001b[0m         \u001b[0;32melif\u001b[0m \u001b[0mself\u001b[0m\u001b[0;34m.\u001b[0m\u001b[0mdownload_state\u001b[0m \u001b[0;34m==\u001b[0m \u001b[0mArticleDownloadState\u001b[0m\u001b[0;34m.\u001b[0m\u001b[0mFAILED_RESPONSE\u001b[0m\u001b[0;34m:\u001b[0m\u001b[0;34m\u001b[0m\u001b[0;34m\u001b[0m\u001b[0m\n\u001b[1;32m    531\u001b[0m             raise ArticleException('Article `download()` failed with %s on URL %s' %\n\u001b[0;32m--> 532\u001b[0;31m                   (self.download_exception_msg, self.url))\n\u001b[0m\u001b[1;32m    533\u001b[0m \u001b[0;34m\u001b[0m\u001b[0m\n\u001b[1;32m    534\u001b[0m     \u001b[0;32mdef\u001b[0m \u001b[0mthrow_if_not_parsed_verbose\u001b[0m\u001b[0;34m(\u001b[0m\u001b[0mself\u001b[0m\u001b[0;34m)\u001b[0m\u001b[0;34m:\u001b[0m\u001b[0;34m\u001b[0m\u001b[0;34m\u001b[0m\u001b[0m\n",
            "\u001b[0;31mArticleException\u001b[0m: Article `download()` failed with HTTPSConnectionPool(host='www.usnews.com', port=443): Read timed out. (read timeout=7) on URL https://www.usnews.com/education/best-colleges/paying-for-college/articles/how-financial-aid-appeals-work-due-to-coronavirus"
          ]
        }
      ]
    }
  ]
}